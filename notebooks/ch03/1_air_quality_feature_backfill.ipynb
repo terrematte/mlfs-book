{
  "cells": [
    {
      "cell_type": "markdown",
      "source": [
        "<a href=\"https://colab.research.google.com/github/terrematte/mlfs-book/blob/main/notebooks/ch03/1_air_quality_feature_backfill.ipynb\" target=\"_parent\"><img src=\"https://colab.research.google.com/assets/colab-badge.svg\" alt=\"Open In Colab\"/></a>"
      ],
      "metadata": {
        "id": "9vcQyixgjxZj"
      },
      "id": "9vcQyixgjxZj"
    },
    {
      "cell_type": "markdown",
      "id": "f139ba67",
      "metadata": {
        "id": "f139ba67"
      },
      "source": [
        "<span style=\"font-width:bold; font-size: 3rem; color:#333;\">- Part 01: Feature Backfill for Air Quality Data</span>\n",
        "\n",
        "\n",
        "## 🗒️ You have the following tasks\n",
        "1. Choose an Air Quality Sensor\n",
        "2. Update the country, city, and street information to point to YOUR chosen Air Quality Sensor\n",
        "3. Download historical measures for your Air Quality Sensor as a CSV file\n",
        "4. Update the path of the CSV file in this notebook to point to the one that you downloaded\n",
        "5. Create an account on www.hopsworks.ai and get your HOPSWORKS_API_KEY\n",
        "6. Run this notebook\n",
        "\n"
      ]
    },
    {
      "cell_type": "markdown",
      "id": "41d6a80c",
      "metadata": {
        "id": "41d6a80c"
      },
      "source": [
        "### <span style='color:#ff5f27'> 📝 Imports"
      ]
    },
    {
      "cell_type": "code",
      "execution_count": null,
      "id": "0f447120",
      "metadata": {
        "id": "0f447120"
      },
      "outputs": [],
      "source": [
        "import datetime\n",
        "import requests\n",
        "import pandas as pd\n",
        "import hopsworks\n",
        "import datetime\n",
        "from pathlib import Path\n",
        "from functions import util\n",
        "import json\n",
        "import re\n",
        "import os\n",
        "import warnings\n",
        "warnings.filterwarnings(\"ignore\")"
      ]
    },
    {
      "cell_type": "markdown",
      "id": "0bb50142-06be-4003-9fd0-6b19c095b010",
      "metadata": {
        "id": "0bb50142-06be-4003-9fd0-6b19c095b010"
      },
      "source": [
        "### IF YOU WANT TO WIPE OUT ALL OF YOUR FEATURES AND MODELS, run the cell below"
      ]
    },
    {
      "cell_type": "code",
      "execution_count": null,
      "id": "014f3362-87f5-4abd-bb57-bebd28638bdb",
      "metadata": {
        "id": "014f3362-87f5-4abd-bb57-bebd28638bdb"
      },
      "outputs": [],
      "source": [
        "# If you haven't set the env variable 'HOPSWORKS_API_KEY', then uncomment the next line and enter your API key\n",
        "# os.environ[\"HOPSWORKS_API_KEY\"] = \"\"\n",
        "# proj = hopsworks.login()\n",
        "# util.purge_project(proj)"
      ]
    },
    {
      "cell_type": "markdown",
      "id": "b2594955",
      "metadata": {
        "id": "b2594955"
      },
      "source": [
        "## <span style='color:#ff5f27'> 🌍 STEP 1: Pick your Air Quality Sensor</span>\n",
        "\n",
        "![image.png](attachment:b40d25b6-4994-4674-970b-a1eb4a14b9ad.png)\n",
        "\n",
        "  * Find your favorite sensor on https://waqi.info/\n",
        "  * The sensor should have a URL in one of the two following forms:\n",
        "\n",
        "  `https://aqicn.org/station/<CITY OR COUNTRY NAME>/<STREET>`\n",
        "  or\n",
        "\n",
        "  `https://aqicn.org/station/@36655//`\n",
        "  or\n",
        "  \n",
        "  `https://aqicn.org/city/<CITY OR COUNTRY NAME>/<STREET>`\n",
        "\n",
        "With your URL, we will need to do two things:\n",
        "\n",
        " * download the historical air quality readings as a CSV file\n",
        " * note down the URL for the real-time API (you will need to create an API key for accessing this).\n",
        "\n",
        "If your sensor's URL has one of the first two formats (the first URL path component is `station`), you will find the links to both historical CSV data and the real-time API on the same web page.\n",
        "\n",
        "However, if your sensor's URL has the last format above (the first URL path component is `city` instead of `station`), then you will need to use 2 different URLs - one to download the historical CSV data and one for the real-time air quality measurements. You will find both of those links in the \"Air quality historical data\" section. Click on the \"Historical air quality data\" when you need to download the CSV file, and when you need the real-time API, click on the \"Real-time air quality data\".\n",
        "\n",
        "Some examples of URLs for stations:\n",
        "\n",
        " * https://aqicn.org/station/sweden/stockholm-hornsgatan-108-gata/ - in Stockholm, Sweden\n",
        " * https://aqicn.org/station/@36655// - in Hell's Kitchen, Manhatten, New York, USA\n",
        " * https://aqicn.org/station/nigeria-benin-city-edo-state-secretariat-palm-house/ - in Benin City, Nigeria\n",
        " * https://aqicn.org/station/india/mumbai/sion/ - Sion in Mumbai, India\n",
        "\n",
        "Here is what the webpage at URL for the Stockholm sensor looks like:\n",
        "\n",
        "![station.png](attachment:1922302e-13b9-469d-ba75-63dabf7b4475.png)\n",
        "\n",
        "__When you pick a sensor for your project, there are 2 things the sensor MUST have__:\n",
        "  1. __PM 2.5__ measurements\n",
        "  2. __Good Historical Values__ for download as a CSV file\n",
        "\n",
        "__Write down the country, city, and the street for your sensor.__\n",
        "\n",
        "We will use the city name to download weather data for your sensor, and we will store the country and street values in the sensor's feature group."
      ]
    },
    {
      "cell_type": "markdown",
      "id": "8d7aacfb",
      "metadata": {
        "id": "8d7aacfb"
      },
      "source": [
        "## What makes a good quality Air Quality Sensor?\n",
        "\n",
        "In the image below, we can see below that our sensor in Stockholm fulfills our 2 requirements. It has:\n",
        "  1. __PM 2.5__ measurements (see upper red-ringed value in image below)\n",
        "  2. __Good Historical Measurements__ with few missing values (see lower red-ringed values in image below)\n",
        "\n",
        "![sensor.png](attachment:46ebde65-85ff-4b12-a560-65230881db0b.png)"
      ]
    },
    {
      "cell_type": "markdown",
      "id": "50156f96",
      "metadata": {
        "id": "50156f96"
      },
      "source": [
        "---"
      ]
    },
    {
      "cell_type": "markdown",
      "id": "bd704668",
      "metadata": {
        "id": "bd704668"
      },
      "source": [
        "## <span style='color:#ff5f27'> 🌍 STEP 2: Download the Historical Air Quality </span>\n",
        "\n",
        "You can download a CSV file containing the historical air quality data from your your sensor's URL.\n",
        "Scroll down to the section \"Air Quality Historical Data\". Click on the PM2.5 option and save the file to the `data` directory in your forked version of this Github repository. Note the name of your CSV file, you will need\n",
        "\n",
        "\n",
        "![download-csv.png](attachment:ab17240a-17ad-47de-97af-2a3a1d32f247.png)"
      ]
    },
    {
      "cell_type": "markdown",
      "id": "27c023d8",
      "metadata": {
        "id": "27c023d8"
      },
      "source": [
        "## <span style='color:#ff5f27'> 🌍 STEP 3: Get the AQICN_URL and API key. Enter country, city, street names for your Sensor.</span>\n",
        "\n",
        "You can find your __AQICN_URL__ if you scroll down the webpage for your sensor - it is the URL inside the redbox here.\n",
        "You shouldn't include the last part of the url - \"/?token=\\__YOUR_TOKEN\\__\".\n",
        "It is bad practice to save TOKENs (aka API KEYs) in your source code - you might make it public if you check that code into Github!\n",
        "We will fill in the token later by saving the AQI_API_KEY as a secret in Hopsworks.\n",
        "\n",
        "![stockholm-rt-api.png](attachment:70fea299-d303-49f8-99ba-43e981d7c3aa.png)\n",
        "\n",
        "__Update the values in the cell below.__"
      ]
    },
    {
      "cell_type": "code",
      "execution_count": null,
      "id": "a51ece50-ffd8-442a-acc4-ee1d35518cbb",
      "metadata": {
        "id": "a51ece50-ffd8-442a-acc4-ee1d35518cbb",
        "outputId": "deb758be-39c8-4485-ffda-aacf92a468c1"
      },
      "outputs": [
        {
          "name": "stdout",
          "output_type": "stream",
          "text": [
            "File successfully found at the path: ../../data/lucan.csv\n"
          ]
        }
      ],
      "source": [
        "csv_file=\"../../data/lucan.csv\"\n",
        "util.check_file_path(csv_file)"
      ]
    },
    {
      "cell_type": "code",
      "execution_count": null,
      "id": "d58eda7c",
      "metadata": {
        "id": "d58eda7c"
      },
      "outputs": [],
      "source": [
        "# TODO: Change these values to point to your Sensor\n",
        "country=\"ireland\"\n",
        "city = \"ireland\"\n",
        "street = \"lucan--co.-dublin\"\n",
        "aqicn_url=\"https://api.waqi.info/feed/@14769\"\n",
        "\n",
        "# This API call may fail if the IP address you run this notebook from is blocked by the Nominatim API\n",
        "# If this fails, lookup the latitude, longitude using Google and enter the values here.\n",
        "# latitude, longitude = util.get_city_coordinates(city)\n",
        "latitude = \"53.3498\"\n",
        "longitude = \"-6.2603\"\n",
        "today = datetime.date.today()"
      ]
    },
    {
      "cell_type": "markdown",
      "id": "32182171-4ddb-4e53-9736-7541b6a72a3c",
      "metadata": {
        "id": "32182171-4ddb-4e53-9736-7541b6a72a3c"
      },
      "source": [
        "## <span style='color:#ff5f27'> 🌍 STEP 4: Get an AQI API Token and Store it as a Secret in Hopsworks </span>\n",
        "\n",
        "You have to first get your AQI API key [from here](https://aqicn.org/data-platform/token/):\n",
        "\n",
        "![image.png](attachment:9336a7d3-f7dc-4aec-a854-78e787e4493e.png)\n",
        "\n",
        "\n",
        "Save the API KEY to a new file you need to create in your repository (do not check this file into Github!):\n",
        "\n",
        " * <project root>/data/aqi-api-key.txt"
      ]
    },
    {
      "cell_type": "code",
      "execution_count": null,
      "id": "6ea6ab4f-a2ab-4865-b215-78b1001265c7",
      "metadata": {
        "id": "6ea6ab4f-a2ab-4865-b215-78b1001265c7",
        "outputId": "cad0b7bd-20bc-48bd-d07f-046515902f44"
      },
      "outputs": [
        {
          "name": "stdout",
          "output_type": "stream",
          "text": [
            "File successfully found at the path: ../../data/aqi-api-key.txt\n"
          ]
        }
      ],
      "source": [
        "aqi_api_key_file = '../../data/aqi-api-key.txt'\n",
        "util.check_file_path(aqi_api_key_file)\n",
        "\n",
        "with open(aqi_api_key_file, 'r') as file:\n",
        "    AQI_API_KEY = file.read().rstrip()"
      ]
    },
    {
      "cell_type": "markdown",
      "id": "bd8b8d1a-62a5-4a1d-b805-6e83cafcd29f",
      "metadata": {
        "id": "bd8b8d1a-62a5-4a1d-b805-6e83cafcd29f"
      },
      "source": [
        "## Hopsworks API Key\n",
        "You need to have registered an account on app.hopsworks.ai.\n",
        "You will be prompted to enter your API key here, unless you set it as the environment variable HOPSWORKS_API_KEY (my preffered approach)."
      ]
    },
    {
      "cell_type": "code",
      "execution_count": null,
      "id": "9f1a49d6-9cd2-4246-b0ca-1058672e4848",
      "metadata": {
        "id": "9f1a49d6-9cd2-4246-b0ca-1058672e4848",
        "outputId": "bbf30f78-0844-4f51-b585-b809bef11d6b"
      },
      "outputs": [
        {
          "name": "stdout",
          "output_type": "stream",
          "text": [
            "Connection closed.\n",
            "Connected. Call `.close()` to terminate connection gracefully.\n",
            "\n",
            "Logged in to project, explore it here https://c.app.hopsworks.ai:443/p/398\n"
          ]
        }
      ],
      "source": [
        "with open('../../data/hopsworks-api-key.txt', 'r') as file:\n",
        "    os.environ[\"HOPSWORKS_API_KEY\"] = file.read().rstrip()\n",
        "\n",
        "project = hopsworks.login()"
      ]
    },
    {
      "cell_type": "code",
      "execution_count": null,
      "id": "9145f0b7-d961-41f7-aebe-741dbf00784c",
      "metadata": {
        "id": "9145f0b7-d961-41f7-aebe-741dbf00784c",
        "outputId": "b340a282-950d-4ab9-b346-64f7b3ed1642"
      },
      "outputs": [
        {
          "name": "stdout",
          "output_type": "stream",
          "text": [
            "Connected. Call `.close()` to terminate connection gracefully.\n"
          ]
        }
      ],
      "source": [
        "secrets = util.secrets_api(project.name)\n",
        "try:\n",
        "    secrets.create_secret(\"AQI_API_KEY\", AQI_API_KEY)\n",
        "except hopsworks.RestAPIError:\n",
        "    AQI_API_KEY = secrets.get_secret(\"AQI_API_KEY\").value"
      ]
    },
    {
      "cell_type": "markdown",
      "id": "1ba1c5eb-4a22-45d4-8934-f521e54a87c4",
      "metadata": {
        "id": "1ba1c5eb-4a22-45d4-8934-f521e54a87c4"
      },
      "source": [
        "### Validate that the AQI_API_KEY you added earlier works\n",
        "\n",
        "The cell below should print out something like:\n",
        "\n",
        "![image.png](attachment:832cc3e9-876c-450f-99d3-cc97abb55b13.png)"
      ]
    },
    {
      "cell_type": "code",
      "execution_count": null,
      "id": "786127b0-c4e5-4a5f-a6fa-4cce903a9c77",
      "metadata": {
        "id": "786127b0-c4e5-4a5f-a6fa-4cce903a9c77",
        "outputId": "5d322175-b222-43aa-dfe0-522ab71eb1a7"
      },
      "outputs": [
        {
          "data": {
            "text/html": [
              "<div>\n",
              "<style scoped>\n",
              "    .dataframe tbody tr th:only-of-type {\n",
              "        vertical-align: middle;\n",
              "    }\n",
              "\n",
              "    .dataframe tbody tr th {\n",
              "        vertical-align: top;\n",
              "    }\n",
              "\n",
              "    .dataframe thead th {\n",
              "        text-align: right;\n",
              "    }\n",
              "</style>\n",
              "<table border=\"1\" class=\"dataframe\">\n",
              "  <thead>\n",
              "    <tr style=\"text-align: right;\">\n",
              "      <th></th>\n",
              "      <th>pm25</th>\n",
              "      <th>country</th>\n",
              "      <th>city</th>\n",
              "      <th>street</th>\n",
              "      <th>date</th>\n",
              "      <th>url</th>\n",
              "    </tr>\n",
              "  </thead>\n",
              "  <tbody>\n",
              "    <tr>\n",
              "      <th>0</th>\n",
              "      <td>22.0</td>\n",
              "      <td>ireland</td>\n",
              "      <td>ireland</td>\n",
              "      <td>lucan--co.-dublin</td>\n",
              "      <td>2024-11-07</td>\n",
              "      <td>https://api.waqi.info/feed/@14769</td>\n",
              "    </tr>\n",
              "  </tbody>\n",
              "</table>\n",
              "</div>"
            ],
            "text/plain": [
              "   pm25  country     city             street       date  \\\n",
              "0  22.0  ireland  ireland  lucan--co.-dublin 2024-11-07   \n",
              "\n",
              "                                 url  \n",
              "0  https://api.waqi.info/feed/@14769  "
            ]
          },
          "execution_count": 10,
          "metadata": {},
          "output_type": "execute_result"
        }
      ],
      "source": [
        "try:\n",
        "    aq_today_df = util.get_pm25(aqicn_url, country, city, street, today, AQI_API_KEY)\n",
        "except hopsworks.RestAPIError:\n",
        "    print(\"It looks like the AQI_API_KEY doesn't work for your sensor. Is the API key correct? Is the sensor URL correct?\")\n",
        "\n",
        "aq_today_df.head()"
      ]
    },
    {
      "cell_type": "markdown",
      "id": "c706e751",
      "metadata": {
        "id": "c706e751"
      },
      "source": [
        "## <span style='color:#ff5f27'> 🌍 STEP 5: Read your CSV file into a DataFrame </span>\n",
        "\n",
        "The cell below will read up historical air quality data as a CSV file into a Pandas DataFrame"
      ]
    },
    {
      "cell_type": "code",
      "execution_count": null,
      "id": "bc3a1212",
      "metadata": {
        "tags": [],
        "id": "bc3a1212",
        "outputId": "b21b4704-665b-4e9d-b91c-410d62df2ddd"
      },
      "outputs": [
        {
          "data": {
            "text/html": [
              "<div>\n",
              "<style scoped>\n",
              "    .dataframe tbody tr th:only-of-type {\n",
              "        vertical-align: middle;\n",
              "    }\n",
              "\n",
              "    .dataframe tbody tr th {\n",
              "        vertical-align: top;\n",
              "    }\n",
              "\n",
              "    .dataframe thead th {\n",
              "        text-align: right;\n",
              "    }\n",
              "</style>\n",
              "<table border=\"1\" class=\"dataframe\">\n",
              "  <thead>\n",
              "    <tr style=\"text-align: right;\">\n",
              "      <th></th>\n",
              "      <th>date</th>\n",
              "      <th>pm25</th>\n",
              "      <th>pm10</th>\n",
              "      <th>no2</th>\n",
              "    </tr>\n",
              "  </thead>\n",
              "  <tbody>\n",
              "    <tr>\n",
              "      <th>0</th>\n",
              "      <td>2024-11-01</td>\n",
              "      <td>43.0</td>\n",
              "      <td>17.0</td>\n",
              "      <td>14.0</td>\n",
              "    </tr>\n",
              "    <tr>\n",
              "      <th>1</th>\n",
              "      <td>2024-11-02</td>\n",
              "      <td>51.0</td>\n",
              "      <td>13.0</td>\n",
              "      <td>12.0</td>\n",
              "    </tr>\n",
              "    <tr>\n",
              "      <th>2</th>\n",
              "      <td>2024-11-03</td>\n",
              "      <td>47.0</td>\n",
              "      <td>13.0</td>\n",
              "      <td>9.0</td>\n",
              "    </tr>\n",
              "    <tr>\n",
              "      <th>3</th>\n",
              "      <td>2024-11-04</td>\n",
              "      <td>45.0</td>\n",
              "      <td>21.0</td>\n",
              "      <td>11.0</td>\n",
              "    </tr>\n",
              "    <tr>\n",
              "      <th>4</th>\n",
              "      <td>2024-11-05</td>\n",
              "      <td>58.0</td>\n",
              "      <td>15.0</td>\n",
              "      <td>6.0</td>\n",
              "    </tr>\n",
              "    <tr>\n",
              "      <th>...</th>\n",
              "      <td>...</td>\n",
              "      <td>...</td>\n",
              "      <td>...</td>\n",
              "      <td>...</td>\n",
              "    </tr>\n",
              "    <tr>\n",
              "      <th>617</th>\n",
              "      <td>2023-04-04</td>\n",
              "      <td>NaN</td>\n",
              "      <td>NaN</td>\n",
              "      <td>9.0</td>\n",
              "    </tr>\n",
              "    <tr>\n",
              "      <th>618</th>\n",
              "      <td>2023-04-05</td>\n",
              "      <td>NaN</td>\n",
              "      <td>NaN</td>\n",
              "      <td>13.0</td>\n",
              "    </tr>\n",
              "    <tr>\n",
              "      <th>619</th>\n",
              "      <td>2023-04-08</td>\n",
              "      <td>NaN</td>\n",
              "      <td>NaN</td>\n",
              "      <td>2.0</td>\n",
              "    </tr>\n",
              "    <tr>\n",
              "      <th>620</th>\n",
              "      <td>2023-04-09</td>\n",
              "      <td>NaN</td>\n",
              "      <td>NaN</td>\n",
              "      <td>3.0</td>\n",
              "    </tr>\n",
              "    <tr>\n",
              "      <th>621</th>\n",
              "      <td>2023-06-18</td>\n",
              "      <td>NaN</td>\n",
              "      <td>NaN</td>\n",
              "      <td>8.0</td>\n",
              "    </tr>\n",
              "  </tbody>\n",
              "</table>\n",
              "<p>622 rows × 4 columns</p>\n",
              "</div>"
            ],
            "text/plain": [
              "          date  pm25  pm10   no2\n",
              "0   2024-11-01  43.0  17.0  14.0\n",
              "1   2024-11-02  51.0  13.0  12.0\n",
              "2   2024-11-03  47.0  13.0   9.0\n",
              "3   2024-11-04  45.0  21.0  11.0\n",
              "4   2024-11-05  58.0  15.0   6.0\n",
              "..         ...   ...   ...   ...\n",
              "617 2023-04-04   NaN   NaN   9.0\n",
              "618 2023-04-05   NaN   NaN  13.0\n",
              "619 2023-04-08   NaN   NaN   2.0\n",
              "620 2023-04-09   NaN   NaN   3.0\n",
              "621 2023-06-18   NaN   NaN   8.0\n",
              "\n",
              "[622 rows x 4 columns]"
            ]
          },
          "execution_count": 11,
          "metadata": {},
          "output_type": "execute_result"
        }
      ],
      "source": [
        "df = pd.read_csv(csv_file,  parse_dates=['date'], skipinitialspace=True)\n",
        "df"
      ]
    },
    {
      "cell_type": "markdown",
      "id": "8812eb37-04e3-4291-8d77-a69ef7a195bc",
      "metadata": {
        "id": "8812eb37-04e3-4291-8d77-a69ef7a195bc"
      },
      "source": [
        "## <span style='color:#ff5f27'> 🌍 STEP 6: Data cleaning</span>\n",
        "\n",
        "\n",
        "### Rename columns if needed and drop unneccessary columns\n",
        "\n",
        "We want to have a DataFrame with 2 columns - `date` and `pm25` after this cell below:"
      ]
    },
    {
      "cell_type": "markdown",
      "id": "47dcfa73",
      "metadata": {
        "id": "47dcfa73"
      },
      "source": [
        "## Check the data types for the columns in your DataFrame\n",
        "\n",
        " * `date` should be of type   datetime64[ns]\n",
        " * `pm25` should be of type float64"
      ]
    },
    {
      "cell_type": "code",
      "execution_count": null,
      "id": "fd20c859-ef3c-4b54-bbcb-83898afefa79",
      "metadata": {
        "id": "fd20c859-ef3c-4b54-bbcb-83898afefa79",
        "outputId": "a1fffa60-6b19-41a3-881e-1aa8d696c5a3"
      },
      "outputs": [
        {
          "data": {
            "text/html": [
              "<div>\n",
              "<style scoped>\n",
              "    .dataframe tbody tr th:only-of-type {\n",
              "        vertical-align: middle;\n",
              "    }\n",
              "\n",
              "    .dataframe tbody tr th {\n",
              "        vertical-align: top;\n",
              "    }\n",
              "\n",
              "    .dataframe thead th {\n",
              "        text-align: right;\n",
              "    }\n",
              "</style>\n",
              "<table border=\"1\" class=\"dataframe\">\n",
              "  <thead>\n",
              "    <tr style=\"text-align: right;\">\n",
              "      <th></th>\n",
              "      <th>date</th>\n",
              "      <th>pm25</th>\n",
              "    </tr>\n",
              "  </thead>\n",
              "  <tbody>\n",
              "    <tr>\n",
              "      <th>0</th>\n",
              "      <td>2024-11-01</td>\n",
              "      <td>43.0</td>\n",
              "    </tr>\n",
              "    <tr>\n",
              "      <th>1</th>\n",
              "      <td>2024-11-02</td>\n",
              "      <td>51.0</td>\n",
              "    </tr>\n",
              "    <tr>\n",
              "      <th>2</th>\n",
              "      <td>2024-11-03</td>\n",
              "      <td>47.0</td>\n",
              "    </tr>\n",
              "    <tr>\n",
              "      <th>3</th>\n",
              "      <td>2024-11-04</td>\n",
              "      <td>45.0</td>\n",
              "    </tr>\n",
              "    <tr>\n",
              "      <th>4</th>\n",
              "      <td>2024-11-05</td>\n",
              "      <td>58.0</td>\n",
              "    </tr>\n",
              "    <tr>\n",
              "      <th>...</th>\n",
              "      <td>...</td>\n",
              "      <td>...</td>\n",
              "    </tr>\n",
              "    <tr>\n",
              "      <th>617</th>\n",
              "      <td>2023-04-04</td>\n",
              "      <td>NaN</td>\n",
              "    </tr>\n",
              "    <tr>\n",
              "      <th>618</th>\n",
              "      <td>2023-04-05</td>\n",
              "      <td>NaN</td>\n",
              "    </tr>\n",
              "    <tr>\n",
              "      <th>619</th>\n",
              "      <td>2023-04-08</td>\n",
              "      <td>NaN</td>\n",
              "    </tr>\n",
              "    <tr>\n",
              "      <th>620</th>\n",
              "      <td>2023-04-09</td>\n",
              "      <td>NaN</td>\n",
              "    </tr>\n",
              "    <tr>\n",
              "      <th>621</th>\n",
              "      <td>2023-06-18</td>\n",
              "      <td>NaN</td>\n",
              "    </tr>\n",
              "  </tbody>\n",
              "</table>\n",
              "<p>622 rows × 2 columns</p>\n",
              "</div>"
            ],
            "text/plain": [
              "          date  pm25\n",
              "0   2024-11-01  43.0\n",
              "1   2024-11-02  51.0\n",
              "2   2024-11-03  47.0\n",
              "3   2024-11-04  45.0\n",
              "4   2024-11-05  58.0\n",
              "..         ...   ...\n",
              "617 2023-04-04   NaN\n",
              "618 2023-04-05   NaN\n",
              "619 2023-04-08   NaN\n",
              "620 2023-04-09   NaN\n",
              "621 2023-06-18   NaN\n",
              "\n",
              "[622 rows x 2 columns]"
            ]
          },
          "execution_count": 13,
          "metadata": {},
          "output_type": "execute_result"
        }
      ],
      "source": [
        "# These commands will succeed if your CSV file didn't have a `median` or `timestamp` column\n",
        "df = df.rename(columns={\"median\": \"pm25\"})\n",
        "df = df.rename(columns={\"timestamp\": \"date\"})\n",
        "\n",
        "df_aq = df[['date', 'pm25']]\n",
        "df_aq['pm25'] = df_aq['pm25'].astype('float32')\n",
        "\n",
        "df_aq"
      ]
    },
    {
      "cell_type": "code",
      "execution_count": null,
      "id": "1f13a19d",
      "metadata": {
        "id": "1f13a19d",
        "outputId": "b62f53f8-c631-4502-bb53-41ad5b67ec11"
      },
      "outputs": [
        {
          "name": "stdout",
          "output_type": "stream",
          "text": [
            "<class 'pandas.core.frame.DataFrame'>\n",
            "RangeIndex: 622 entries, 0 to 621\n",
            "Data columns (total 2 columns):\n",
            " #   Column  Non-Null Count  Dtype         \n",
            "---  ------  --------------  -----         \n",
            " 0   date    622 non-null    datetime64[ns]\n",
            " 1   pm25    608 non-null    float32       \n",
            "dtypes: datetime64[ns](1), float32(1)\n",
            "memory usage: 7.4 KB\n"
          ]
        }
      ],
      "source": [
        "# Cast the pm25 column to be a float32 data type\n",
        "df_aq.info()"
      ]
    },
    {
      "cell_type": "markdown",
      "id": "19911f73",
      "metadata": {
        "id": "19911f73"
      },
      "source": [
        "## <span style='color:#ff5f27'> 🌍 STEP 7: Drop any rows with missing data </span>\n",
        "It will make the model training easier if there is no missing data in the rows, so we drop any rows with missing data."
      ]
    },
    {
      "cell_type": "code",
      "execution_count": null,
      "id": "37b0a762",
      "metadata": {
        "id": "37b0a762",
        "outputId": "1e38a049-5f57-4cd5-c7b1-5b888e9fdce4"
      },
      "outputs": [
        {
          "data": {
            "text/html": [
              "<div>\n",
              "<style scoped>\n",
              "    .dataframe tbody tr th:only-of-type {\n",
              "        vertical-align: middle;\n",
              "    }\n",
              "\n",
              "    .dataframe tbody tr th {\n",
              "        vertical-align: top;\n",
              "    }\n",
              "\n",
              "    .dataframe thead th {\n",
              "        text-align: right;\n",
              "    }\n",
              "</style>\n",
              "<table border=\"1\" class=\"dataframe\">\n",
              "  <thead>\n",
              "    <tr style=\"text-align: right;\">\n",
              "      <th></th>\n",
              "      <th>date</th>\n",
              "      <th>pm25</th>\n",
              "    </tr>\n",
              "  </thead>\n",
              "  <tbody>\n",
              "    <tr>\n",
              "      <th>0</th>\n",
              "      <td>2024-11-01</td>\n",
              "      <td>43.0</td>\n",
              "    </tr>\n",
              "    <tr>\n",
              "      <th>1</th>\n",
              "      <td>2024-11-02</td>\n",
              "      <td>51.0</td>\n",
              "    </tr>\n",
              "    <tr>\n",
              "      <th>2</th>\n",
              "      <td>2024-11-03</td>\n",
              "      <td>47.0</td>\n",
              "    </tr>\n",
              "    <tr>\n",
              "      <th>3</th>\n",
              "      <td>2024-11-04</td>\n",
              "      <td>45.0</td>\n",
              "    </tr>\n",
              "    <tr>\n",
              "      <th>4</th>\n",
              "      <td>2024-11-05</td>\n",
              "      <td>58.0</td>\n",
              "    </tr>\n",
              "    <tr>\n",
              "      <th>...</th>\n",
              "      <td>...</td>\n",
              "      <td>...</td>\n",
              "    </tr>\n",
              "    <tr>\n",
              "      <th>603</th>\n",
              "      <td>2023-03-27</td>\n",
              "      <td>44.0</td>\n",
              "    </tr>\n",
              "    <tr>\n",
              "      <th>604</th>\n",
              "      <td>2023-03-28</td>\n",
              "      <td>18.0</td>\n",
              "    </tr>\n",
              "    <tr>\n",
              "      <th>605</th>\n",
              "      <td>2023-03-29</td>\n",
              "      <td>22.0</td>\n",
              "    </tr>\n",
              "    <tr>\n",
              "      <th>606</th>\n",
              "      <td>2023-03-30</td>\n",
              "      <td>30.0</td>\n",
              "    </tr>\n",
              "    <tr>\n",
              "      <th>607</th>\n",
              "      <td>2023-03-31</td>\n",
              "      <td>26.0</td>\n",
              "    </tr>\n",
              "  </tbody>\n",
              "</table>\n",
              "<p>608 rows × 2 columns</p>\n",
              "</div>"
            ],
            "text/plain": [
              "          date  pm25\n",
              "0   2024-11-01  43.0\n",
              "1   2024-11-02  51.0\n",
              "2   2024-11-03  47.0\n",
              "3   2024-11-04  45.0\n",
              "4   2024-11-05  58.0\n",
              "..         ...   ...\n",
              "603 2023-03-27  44.0\n",
              "604 2023-03-28  18.0\n",
              "605 2023-03-29  22.0\n",
              "606 2023-03-30  30.0\n",
              "607 2023-03-31  26.0\n",
              "\n",
              "[608 rows x 2 columns]"
            ]
          },
          "execution_count": 15,
          "metadata": {},
          "output_type": "execute_result"
        }
      ],
      "source": [
        "df_aq.dropna(inplace=True)\n",
        "df_aq"
      ]
    },
    {
      "cell_type": "markdown",
      "id": "f089c159",
      "metadata": {
        "id": "f089c159"
      },
      "source": [
        "## <span style='color:#ff5f27'> 🌍 STEP 8: Add country, city, street, url to the DataFrame </span>\n",
        "\n",
        "Your CSV file may have many other air quality measurement columns. We will only work with the `pm25` column.\n",
        "\n",
        "We add the columns for the country, city, and street names that you changed for your Air Quality sensor.\n",
        "\n",
        "We also want to make sure the `pm25` column is a float32 data type."
      ]
    },
    {
      "cell_type": "code",
      "execution_count": null,
      "id": "15d3cc59",
      "metadata": {
        "id": "15d3cc59",
        "outputId": "58435e56-948d-45ab-e9e2-6563d624f250"
      },
      "outputs": [
        {
          "data": {
            "text/html": [
              "<div>\n",
              "<style scoped>\n",
              "    .dataframe tbody tr th:only-of-type {\n",
              "        vertical-align: middle;\n",
              "    }\n",
              "\n",
              "    .dataframe tbody tr th {\n",
              "        vertical-align: top;\n",
              "    }\n",
              "\n",
              "    .dataframe thead th {\n",
              "        text-align: right;\n",
              "    }\n",
              "</style>\n",
              "<table border=\"1\" class=\"dataframe\">\n",
              "  <thead>\n",
              "    <tr style=\"text-align: right;\">\n",
              "      <th></th>\n",
              "      <th>date</th>\n",
              "      <th>pm25</th>\n",
              "      <th>country</th>\n",
              "      <th>city</th>\n",
              "      <th>street</th>\n",
              "      <th>url</th>\n",
              "    </tr>\n",
              "  </thead>\n",
              "  <tbody>\n",
              "    <tr>\n",
              "      <th>0</th>\n",
              "      <td>2024-11-01</td>\n",
              "      <td>43.0</td>\n",
              "      <td>ireland</td>\n",
              "      <td>ireland</td>\n",
              "      <td>lucan--co.-dublin</td>\n",
              "      <td>https://api.waqi.info/feed/@14769</td>\n",
              "    </tr>\n",
              "    <tr>\n",
              "      <th>1</th>\n",
              "      <td>2024-11-02</td>\n",
              "      <td>51.0</td>\n",
              "      <td>ireland</td>\n",
              "      <td>ireland</td>\n",
              "      <td>lucan--co.-dublin</td>\n",
              "      <td>https://api.waqi.info/feed/@14769</td>\n",
              "    </tr>\n",
              "    <tr>\n",
              "      <th>2</th>\n",
              "      <td>2024-11-03</td>\n",
              "      <td>47.0</td>\n",
              "      <td>ireland</td>\n",
              "      <td>ireland</td>\n",
              "      <td>lucan--co.-dublin</td>\n",
              "      <td>https://api.waqi.info/feed/@14769</td>\n",
              "    </tr>\n",
              "    <tr>\n",
              "      <th>3</th>\n",
              "      <td>2024-11-04</td>\n",
              "      <td>45.0</td>\n",
              "      <td>ireland</td>\n",
              "      <td>ireland</td>\n",
              "      <td>lucan--co.-dublin</td>\n",
              "      <td>https://api.waqi.info/feed/@14769</td>\n",
              "    </tr>\n",
              "    <tr>\n",
              "      <th>4</th>\n",
              "      <td>2024-11-05</td>\n",
              "      <td>58.0</td>\n",
              "      <td>ireland</td>\n",
              "      <td>ireland</td>\n",
              "      <td>lucan--co.-dublin</td>\n",
              "      <td>https://api.waqi.info/feed/@14769</td>\n",
              "    </tr>\n",
              "    <tr>\n",
              "      <th>...</th>\n",
              "      <td>...</td>\n",
              "      <td>...</td>\n",
              "      <td>...</td>\n",
              "      <td>...</td>\n",
              "      <td>...</td>\n",
              "      <td>...</td>\n",
              "    </tr>\n",
              "    <tr>\n",
              "      <th>603</th>\n",
              "      <td>2023-03-27</td>\n",
              "      <td>44.0</td>\n",
              "      <td>ireland</td>\n",
              "      <td>ireland</td>\n",
              "      <td>lucan--co.-dublin</td>\n",
              "      <td>https://api.waqi.info/feed/@14769</td>\n",
              "    </tr>\n",
              "    <tr>\n",
              "      <th>604</th>\n",
              "      <td>2023-03-28</td>\n",
              "      <td>18.0</td>\n",
              "      <td>ireland</td>\n",
              "      <td>ireland</td>\n",
              "      <td>lucan--co.-dublin</td>\n",
              "      <td>https://api.waqi.info/feed/@14769</td>\n",
              "    </tr>\n",
              "    <tr>\n",
              "      <th>605</th>\n",
              "      <td>2023-03-29</td>\n",
              "      <td>22.0</td>\n",
              "      <td>ireland</td>\n",
              "      <td>ireland</td>\n",
              "      <td>lucan--co.-dublin</td>\n",
              "      <td>https://api.waqi.info/feed/@14769</td>\n",
              "    </tr>\n",
              "    <tr>\n",
              "      <th>606</th>\n",
              "      <td>2023-03-30</td>\n",
              "      <td>30.0</td>\n",
              "      <td>ireland</td>\n",
              "      <td>ireland</td>\n",
              "      <td>lucan--co.-dublin</td>\n",
              "      <td>https://api.waqi.info/feed/@14769</td>\n",
              "    </tr>\n",
              "    <tr>\n",
              "      <th>607</th>\n",
              "      <td>2023-03-31</td>\n",
              "      <td>26.0</td>\n",
              "      <td>ireland</td>\n",
              "      <td>ireland</td>\n",
              "      <td>lucan--co.-dublin</td>\n",
              "      <td>https://api.waqi.info/feed/@14769</td>\n",
              "    </tr>\n",
              "  </tbody>\n",
              "</table>\n",
              "<p>608 rows × 6 columns</p>\n",
              "</div>"
            ],
            "text/plain": [
              "          date  pm25  country     city             street  \\\n",
              "0   2024-11-01  43.0  ireland  ireland  lucan--co.-dublin   \n",
              "1   2024-11-02  51.0  ireland  ireland  lucan--co.-dublin   \n",
              "2   2024-11-03  47.0  ireland  ireland  lucan--co.-dublin   \n",
              "3   2024-11-04  45.0  ireland  ireland  lucan--co.-dublin   \n",
              "4   2024-11-05  58.0  ireland  ireland  lucan--co.-dublin   \n",
              "..         ...   ...      ...      ...                ...   \n",
              "603 2023-03-27  44.0  ireland  ireland  lucan--co.-dublin   \n",
              "604 2023-03-28  18.0  ireland  ireland  lucan--co.-dublin   \n",
              "605 2023-03-29  22.0  ireland  ireland  lucan--co.-dublin   \n",
              "606 2023-03-30  30.0  ireland  ireland  lucan--co.-dublin   \n",
              "607 2023-03-31  26.0  ireland  ireland  lucan--co.-dublin   \n",
              "\n",
              "                                   url  \n",
              "0    https://api.waqi.info/feed/@14769  \n",
              "1    https://api.waqi.info/feed/@14769  \n",
              "2    https://api.waqi.info/feed/@14769  \n",
              "3    https://api.waqi.info/feed/@14769  \n",
              "4    https://api.waqi.info/feed/@14769  \n",
              "..                                 ...  \n",
              "603  https://api.waqi.info/feed/@14769  \n",
              "604  https://api.waqi.info/feed/@14769  \n",
              "605  https://api.waqi.info/feed/@14769  \n",
              "606  https://api.waqi.info/feed/@14769  \n",
              "607  https://api.waqi.info/feed/@14769  \n",
              "\n",
              "[608 rows x 6 columns]"
            ]
          },
          "execution_count": 16,
          "metadata": {},
          "output_type": "execute_result"
        }
      ],
      "source": [
        "# Your sensor may have columns we won't use, so only keep the date and pm25 columns\n",
        "# If the column names in your DataFrame are different, rename your columns to `date` and `pm25`\n",
        "df_aq['country']=country\n",
        "df_aq['city']=city\n",
        "df_aq['street']=street\n",
        "df_aq['url']=aqicn_url\n",
        "df_aq"
      ]
    },
    {
      "cell_type": "markdown",
      "id": "000e8276",
      "metadata": {
        "id": "000e8276"
      },
      "source": [
        "---"
      ]
    },
    {
      "cell_type": "markdown",
      "id": "055befa2",
      "metadata": {
        "tags": [],
        "id": "055befa2"
      },
      "source": [
        "## <span style='color:#ff5f27'> 🌦 Loading Weather Data from [Open Meteo](https://open-meteo.com/en/docs)"
      ]
    },
    {
      "cell_type": "markdown",
      "id": "78686a28",
      "metadata": {
        "id": "78686a28"
      },
      "source": [
        "## <span style='color:#ff5f27'> 🌍 STEP 9: Download the Historical Weather Data </span>\n",
        "\n",
        "https://open-meteo.com/en/docs/historical-weather-api#hourly=&daily=temperature_2m_mean,precipitation_sum,wind_speed_10m_max,wind_direction_10m_dominant\n",
        "\n",
        "We will download the historical weather data for your `city` by first extracting the earliest date from your DataFrame containing the historical air quality measurements.\n",
        "\n",
        "We will download all daily historical weather data measurements for your `city` from the earliest date in your air quality measurement DataFrame. It doesn't matter if there are missing days of air quality measurements. We can store all of the daily weather measurements, and when we build our training dataset, we will join up the air quality measurements for a given day to its weather features for that day.\n",
        "\n",
        "The weather features we will download are:\n",
        "\n",
        " * `temperature (average over the day)`\n",
        " * `precipitation (the total over the day)`\n",
        " * `wind speed (average over the day)`\n",
        " * `wind direction (the most dominant direction over the day)`\n"
      ]
    },
    {
      "cell_type": "code",
      "execution_count": null,
      "id": "96d604b3",
      "metadata": {
        "id": "96d604b3",
        "outputId": "7419607b-20a4-413d-cae8-4f45922f51bb"
      },
      "outputs": [
        {
          "name": "stdout",
          "output_type": "stream",
          "text": [
            "Coordinates 53.32161331176758°N -6.501922607421875°E\n",
            "Elevation 11.0 m asl\n",
            "Timezone None None\n",
            "Timezone difference to GMT+0 0 s\n"
          ]
        }
      ],
      "source": [
        "earliest_aq_date = pd.Series.min(df_aq['date'])\n",
        "earliest_aq_date = earliest_aq_date.strftime('%Y-%m-%d')\n",
        "earliest_aq_date\n",
        "\n",
        "weather_df = util.get_historical_weather(city, earliest_aq_date, str(today), latitude, longitude)"
      ]
    },
    {
      "cell_type": "code",
      "execution_count": null,
      "id": "cd6eefe3",
      "metadata": {
        "id": "cd6eefe3",
        "outputId": "4874e92a-e6cd-42f3-cbf5-065056fd5552"
      },
      "outputs": [
        {
          "name": "stdout",
          "output_type": "stream",
          "text": [
            "<class 'pandas.core.frame.DataFrame'>\n",
            "Index: 632 entries, 0 to 631\n",
            "Data columns (total 6 columns):\n",
            " #   Column                       Non-Null Count  Dtype         \n",
            "---  ------                       --------------  -----         \n",
            " 0   date                         632 non-null    datetime64[ns]\n",
            " 1   temperature_2m_mean          632 non-null    float32       \n",
            " 2   precipitation_sum            632 non-null    float32       \n",
            " 3   wind_speed_10m_max           632 non-null    float32       \n",
            " 4   wind_direction_10m_dominant  632 non-null    float32       \n",
            " 5   city                         632 non-null    object        \n",
            "dtypes: datetime64[ns](1), float32(4), object(1)\n",
            "memory usage: 24.7+ KB\n"
          ]
        }
      ],
      "source": [
        "weather_df.info()"
      ]
    },
    {
      "cell_type": "markdown",
      "id": "8a9d5eeb",
      "metadata": {
        "id": "8a9d5eeb"
      },
      "source": [
        "## <span style='color:#ff5f27'> 🌍 STEP 10: Define Data Validation Rules </span>\n",
        "\n",
        "We will validate the air quality measurements (`pm25` values) before we write them to Hopsworks.\n",
        "\n",
        "We define a data validation rule (an expectation in Great Expectations) that ensures that `pm25` values are not negative or above the max value available by the sensor.\n",
        "\n",
        "We will attach this expectation to the air quality feature group, so that we validate the `pm25` data every time we write a DataFrame to the feature group. We want to prevent garbage-in, garbage-out."
      ]
    },
    {
      "cell_type": "code",
      "execution_count": null,
      "id": "11bcdcad",
      "metadata": {
        "id": "11bcdcad",
        "outputId": "e51ab41d-60e2-45da-fcc2-b21e3b910f17"
      },
      "outputs": [
        {
          "data": {
            "text/plain": [
              "{\"expectation_type\": \"expect_column_min_to_be_between\", \"kwargs\": {\"column\": \"pm25\", \"min_value\": -0.1, \"max_value\": 500.0, \"strict_min\": true}, \"meta\": {}}"
            ]
          },
          "execution_count": 19,
          "metadata": {},
          "output_type": "execute_result"
        }
      ],
      "source": [
        "import great_expectations as ge\n",
        "aq_expectation_suite = ge.core.ExpectationSuite(\n",
        "    expectation_suite_name=\"aq_expectation_suite\"\n",
        ")\n",
        "\n",
        "aq_expectation_suite.add_expectation(\n",
        "    ge.core.ExpectationConfiguration(\n",
        "        expectation_type=\"expect_column_min_to_be_between\",\n",
        "        kwargs={\n",
        "            \"column\":\"pm25\",\n",
        "            \"min_value\":-0.1,\n",
        "            \"max_value\":500.0,\n",
        "            \"strict_min\":True\n",
        "        }\n",
        "    )\n",
        ")"
      ]
    },
    {
      "cell_type": "markdown",
      "id": "5bef9ed3",
      "metadata": {
        "id": "5bef9ed3"
      },
      "source": [
        "## Expectations for Weather Data\n",
        "Here, we define an expectation for 2 columns in our weather DataFrame - `precipitation_sum` and `wind_speed_10m_max`, where we expect both values to be greater than zero, but less than 1000."
      ]
    },
    {
      "cell_type": "code",
      "execution_count": null,
      "id": "0bff8b2e",
      "metadata": {
        "id": "0bff8b2e"
      },
      "outputs": [],
      "source": [
        "import great_expectations as ge\n",
        "weather_expectation_suite = ge.core.ExpectationSuite(\n",
        "    expectation_suite_name=\"weather_expectation_suite\"\n",
        ")\n",
        "\n",
        "def expect_greater_than_zero(col):\n",
        "    weather_expectation_suite.add_expectation(\n",
        "        ge.core.ExpectationConfiguration(\n",
        "            expectation_type=\"expect_column_min_to_be_between\",\n",
        "            kwargs={\n",
        "                \"column\":col,\n",
        "                \"min_value\":-0.1,\n",
        "                \"max_value\":1000.0,\n",
        "                \"strict_min\":True\n",
        "            }\n",
        "        )\n",
        "    )\n",
        "expect_greater_than_zero(\"precipitation_sum\")\n",
        "expect_greater_than_zero(\"wind_speed_10m_max\")"
      ]
    },
    {
      "cell_type": "markdown",
      "id": "fb3830b7",
      "metadata": {
        "id": "fb3830b7"
      },
      "source": [
        "---"
      ]
    },
    {
      "cell_type": "markdown",
      "id": "6291a502",
      "metadata": {
        "id": "6291a502"
      },
      "source": [
        "### <span style=\"color:#ff5f27;\"> 🔮 STEP 11: Connect to Hopsworks and save the sensor country, city, street names as a secret</span>"
      ]
    },
    {
      "cell_type": "code",
      "execution_count": null,
      "id": "aeaf20ef",
      "metadata": {
        "id": "aeaf20ef",
        "outputId": "f1960286-7039-4ca0-e01a-2e68fde129cd"
      },
      "outputs": [
        {
          "name": "stdout",
          "output_type": "stream",
          "text": [
            "Connected. Call `.close()` to terminate connection gracefully.\n"
          ]
        }
      ],
      "source": [
        "fs = project.get_feature_store()"
      ]
    },
    {
      "cell_type": "markdown",
      "id": "20dd82f7",
      "metadata": {
        "id": "20dd82f7"
      },
      "source": [
        "#### Save country, city, street names as a secret\n",
        "\n",
        "These will be downloaded from Hopsworks later in the (1) daily feature pipeline and (2) the daily batch inference pipeline"
      ]
    },
    {
      "cell_type": "code",
      "execution_count": null,
      "id": "cd36749d",
      "metadata": {
        "id": "cd36749d",
        "outputId": "6eecdb8c-dac3-4554-9789-569ed49cdae5"
      },
      "outputs": [
        {
          "name": "stdout",
          "output_type": "stream",
          "text": [
            "Secret created successfully, explore it at https://c.app.hopsworks.ai:443/account/secrets\n"
          ]
        }
      ],
      "source": [
        "dict_obj = {\n",
        "    \"country\": country,\n",
        "    \"city\": city,\n",
        "    \"street\": street,\n",
        "    \"aqicn_url\": aqicn_url,\n",
        "    \"latitude\": latitude,\n",
        "    \"longitude\": longitude\n",
        "}\n",
        "\n",
        "# Convert the dictionary to a JSON string\n",
        "str_dict = json.dumps(dict_obj)\n",
        "\n",
        "try:\n",
        "    secrets.create_secret(\"SENSOR_LOCATION_JSON\", str_dict)\n",
        "except hopsworks.RestAPIError:\n",
        "    print(\"SENSOR_LOCATION_JSON already exists. To update, delete the secret in the UI (https://c.app.hopsworks.ai/account/secrets) and re-run this cell.\")\n",
        "    existing_key = secrets.get_secret(\"SENSOR_LOCATION_JSON\").value\n",
        "    print(f\"{existing_key}\")"
      ]
    },
    {
      "cell_type": "markdown",
      "id": "27e79b3f",
      "metadata": {
        "id": "27e79b3f"
      },
      "source": [
        "### <span style=\"color:#ff5f27;\"> 🔮 STEP 12: Create the Feature Groups and insert the DataFrames in them </span>"
      ]
    },
    {
      "cell_type": "markdown",
      "id": "b3755b6f",
      "metadata": {
        "id": "b3755b6f"
      },
      "source": [
        "### <span style='color:#ff5f27'> 🌫 Air Quality Data\n",
        "    \n",
        " 1. Provide a name, description, and version for the feature group.\n",
        " 2. Define the `primary_key`: we have to select which columns uniquely identify each row in the DataFrame - by providing them as the `primary_key`. Here, each air quality sensor measurement is uniquely identified by `country`, `street`, and  `date`.\n",
        " 3. Define the `event_time`: We also define which column stores the timestamp or date for the row - `date`.\n",
        " 4. Attach any `expectation_suite` containing data validation rules"
      ]
    },
    {
      "cell_type": "code",
      "execution_count": null,
      "id": "4d2bb403",
      "metadata": {
        "scrolled": true,
        "tags": [],
        "id": "4d2bb403"
      },
      "outputs": [],
      "source": [
        "air_quality_fg = fs.get_or_create_feature_group(\n",
        "    name='air_quality',\n",
        "    description='Air Quality characteristics of each day',\n",
        "    version=1,\n",
        "    primary_key=['city', 'street', 'date'],\n",
        "    event_time=\"date\",\n",
        "    expectation_suite=aq_expectation_suite\n",
        ")"
      ]
    },
    {
      "cell_type": "markdown",
      "id": "2933cfa5",
      "metadata": {
        "id": "2933cfa5"
      },
      "source": [
        "#### Insert the DataFrame into the Feature Group"
      ]
    },
    {
      "cell_type": "code",
      "execution_count": null,
      "id": "0fb42574",
      "metadata": {
        "id": "0fb42574",
        "outputId": "1159abb9-811b-4b15-e1db-cf6b32cc993c",
        "colab": {
          "referenced_widgets": [
            "7c0fa787d66e43ff86ef9776fe7ad2c7"
          ]
        }
      },
      "outputs": [
        {
          "name": "stdout",
          "output_type": "stream",
          "text": [
            "Feature Group created successfully, explore it at \n",
            "https://c.app.hopsworks.ai:443/p/398/fs/335/fg/1339753\n",
            "2024-11-07 14:23:55,581 INFO: \t1 expectation(s) included in expectation_suite.\n",
            "Validation succeeded.\n",
            "Validation Report saved successfully, explore a summary at https://c.app.hopsworks.ai:443/p/398/fs/335/fg/1339753\n"
          ]
        },
        {
          "data": {
            "application/vnd.jupyter.widget-view+json": {
              "model_id": "7c0fa787d66e43ff86ef9776fe7ad2c7",
              "version_major": 2,
              "version_minor": 0
            },
            "text/plain": [
              "Uploading Dataframe: 0.00% |          | Rows 0/608 | Elapsed Time: 00:00 | Remaining Time: ?"
            ]
          },
          "metadata": {},
          "output_type": "display_data"
        },
        {
          "name": "stdout",
          "output_type": "stream",
          "text": [
            "Launching job: air_quality_1_offline_fg_materialization\n",
            "Job started successfully, you can follow the progress at \n",
            "https://c.app.hopsworks.ai/p/398/jobs/named/air_quality_1_offline_fg_materialization/executions\n"
          ]
        },
        {
          "data": {
            "text/plain": [
              "(<hsfs.core.job.Job at 0x7fbe5f2bb280>,\n",
              " {\n",
              "   \"success\": true,\n",
              "   \"results\": [\n",
              "     {\n",
              "       \"success\": true,\n",
              "       \"expectation_config\": {\n",
              "         \"expectation_type\": \"expect_column_min_to_be_between\",\n",
              "         \"kwargs\": {\n",
              "           \"column\": \"pm25\",\n",
              "           \"min_value\": -0.1,\n",
              "           \"max_value\": 500.0,\n",
              "           \"strict_min\": true\n",
              "         },\n",
              "         \"meta\": {\n",
              "           \"expectationId\": 663562\n",
              "         }\n",
              "       },\n",
              "       \"result\": {\n",
              "         \"observed_value\": 3.0,\n",
              "         \"element_count\": 608,\n",
              "         \"missing_count\": null,\n",
              "         \"missing_percent\": null\n",
              "       },\n",
              "       \"meta\": {\n",
              "         \"ingestionResult\": \"INGESTED\",\n",
              "         \"validationTime\": \"2024-11-07T01:23:55.000580Z\"\n",
              "       },\n",
              "       \"exception_info\": {\n",
              "         \"raised_exception\": false,\n",
              "         \"exception_message\": null,\n",
              "         \"exception_traceback\": null\n",
              "       }\n",
              "     }\n",
              "   ],\n",
              "   \"evaluation_parameters\": {},\n",
              "   \"statistics\": {\n",
              "     \"evaluated_expectations\": 1,\n",
              "     \"successful_expectations\": 1,\n",
              "     \"unsuccessful_expectations\": 0,\n",
              "     \"success_percent\": 100.0\n",
              "   },\n",
              "   \"meta\": {\n",
              "     \"great_expectations_version\": \"0.18.12\",\n",
              "     \"expectation_suite_name\": \"aq_expectation_suite\",\n",
              "     \"run_id\": {\n",
              "       \"run_name\": null,\n",
              "       \"run_time\": \"2024-11-07T14:23:55.581231+01:00\"\n",
              "     },\n",
              "     \"batch_kwargs\": {\n",
              "       \"ge_batch_id\": \"89e95de0-9d0b-11ef-b7d9-00155dab386a\"\n",
              "     },\n",
              "     \"batch_markers\": {},\n",
              "     \"batch_parameters\": {},\n",
              "     \"validation_time\": \"20241107T132355.580973Z\",\n",
              "     \"expectation_suite_meta\": {\n",
              "       \"great_expectations_version\": \"0.18.12\"\n",
              "     }\n",
              "   }\n",
              " })"
            ]
          },
          "execution_count": 25,
          "metadata": {},
          "output_type": "execute_result"
        }
      ],
      "source": [
        "air_quality_fg.insert(df_aq)"
      ]
    },
    {
      "cell_type": "markdown",
      "id": "663a1606",
      "metadata": {
        "id": "663a1606"
      },
      "source": [
        "#### Enter a description for each feature in the Feature Group"
      ]
    },
    {
      "cell_type": "code",
      "execution_count": null,
      "id": "577effca",
      "metadata": {
        "id": "577effca",
        "outputId": "1742cf10-8c3f-488d-83db-ba67e0d08c5e"
      },
      "outputs": [
        {
          "data": {
            "text/plain": [
              "<hsfs.feature_group.FeatureGroup at 0x7fbec993acb0>"
            ]
          },
          "execution_count": 26,
          "metadata": {},
          "output_type": "execute_result"
        }
      ],
      "source": [
        "air_quality_fg.update_feature_description(\"date\", \"Date of measurement of air quality\")\n",
        "air_quality_fg.update_feature_description(\"country\", \"Country where the air quality was measured (sometimes a city in acqcn.org)\")\n",
        "air_quality_fg.update_feature_description(\"city\", \"City where the air quality was measured\")\n",
        "air_quality_fg.update_feature_description(\"street\", \"Street in the city where the air quality was measured\")\n",
        "air_quality_fg.update_feature_description(\"pm25\", \"Particles less than 2.5 micrometers in diameter (fine particles) pose health risk\")"
      ]
    },
    {
      "cell_type": "markdown",
      "id": "5894b731",
      "metadata": {
        "id": "5894b731"
      },
      "source": [
        "### <span style='color:#ff5f27'> 🌦 Weather Data\n",
        "    \n",
        " 1. Provide a name, description, and version for the feature group.\n",
        " 2. Define the `primary_key`: we have to select which columns uniquely identify each row in the DataFrame - by providing them as the `primary_key`. Here, each weather measurement is uniquely identified by `city` and  `date`.\n",
        " 3. Define the `event_time`: We also define which column stores the timestamp or date for the row - `date`.\n",
        " 4. Attach any `expectation_suite` containing data validation rules"
      ]
    },
    {
      "cell_type": "code",
      "execution_count": null,
      "id": "572a84ed",
      "metadata": {
        "id": "572a84ed"
      },
      "outputs": [],
      "source": [
        "# Get or create feature group\n",
        "weather_fg = fs.get_or_create_feature_group(\n",
        "    name='weather',\n",
        "    description='Weather characteristics of each day',\n",
        "    version=1,\n",
        "    primary_key=['city', 'date'],\n",
        "    event_time=\"date\",\n",
        "    expectation_suite=weather_expectation_suite\n",
        ")"
      ]
    },
    {
      "cell_type": "markdown",
      "id": "721881b7",
      "metadata": {
        "id": "721881b7"
      },
      "source": [
        "#### Insert the DataFrame into the Feature Group"
      ]
    },
    {
      "cell_type": "code",
      "execution_count": null,
      "id": "5ba846ea",
      "metadata": {
        "tags": [],
        "id": "5ba846ea"
      },
      "outputs": [],
      "source": [
        "# Insert data\n",
        "weather_fg.insert(weather_df)"
      ]
    },
    {
      "cell_type": "markdown",
      "id": "5a87422d",
      "metadata": {
        "id": "5a87422d"
      },
      "source": [
        "#### Enter a description for each feature in the Feature Group"
      ]
    },
    {
      "cell_type": "code",
      "execution_count": null,
      "id": "71e6f6d3",
      "metadata": {
        "id": "71e6f6d3"
      },
      "outputs": [],
      "source": [
        "weather_fg.update_feature_description(\"date\", \"Date of measurement of weather\")\n",
        "weather_fg.update_feature_description(\"city\", \"City where weather is measured/forecast for\")\n",
        "weather_fg.update_feature_description(\"temperature_2m_mean\", \"Temperature in Celsius\")\n",
        "weather_fg.update_feature_description(\"precipitation_sum\", \"Precipitation (rain/snow) in mm\")\n",
        "weather_fg.update_feature_description(\"wind_speed_10m_max\", \"Wind speed at 10m abouve ground\")\n",
        "weather_fg.update_feature_description(\"wind_direction_10m_dominant\", \"Dominant Wind direction over the dayd\")"
      ]
    },
    {
      "cell_type": "markdown",
      "id": "cedc16b5",
      "metadata": {
        "id": "cedc16b5"
      },
      "source": [
        "## <span style=\"color:#ff5f27;\">⏭️ **Next:** Part 02: Daily Feature Pipeline\n",
        " </span>\n"
      ]
    },
    {
      "cell_type": "markdown",
      "id": "7c029117",
      "metadata": {
        "id": "7c029117"
      },
      "source": [
        "## <span style=\"color:#ff5f27;\">⏭️ **Exercises:**\n",
        " </span>\n",
        "\n",
        "Extra Homework:\n",
        "\n",
        "  * Try adding a new feature based on a rolling window of 3 days for 'pm25'\n",
        "      * This is not easy, as forecasting more than 1 day in the future, you won't have the previous 3 days of pm25 measurements.\n",
        "      * df.set_index(\"date\").rolling(3).mean() is only the start....\n",
        "  * Parameterize the notebook, so that you can provide the `country`/`street`/`city`/`url`/`csv_file` as parameters.\n",
        "      * Hint: this will also require making the secret name (`SENSOR_LOCATION_JSON`), e.g., add the street name as part of the secret name. Then you have to pass that secret name as a parameter when running the operational feature pipeline and batch inference pipelines.\n",
        "      * After you have done this, collect the street/city/url/csv files for all the sensors in your city or region and you make dashboards for all of the air quality sensors in your city/region. You could even then add a dashboard for your city/region, as done [here for Poland](https://github.com/erno98/ID2223).\n",
        "\n",
        "Improve this AI System\n",
        "  * As of mid 2024, there is no API call available to download historical data from the AQIN website. You could improve this system by writing a PR to download the CSV file using Python Selenium and the URL for the sensor.\n"
      ]
    },
    {
      "cell_type": "markdown",
      "id": "bb407899",
      "metadata": {
        "id": "bb407899"
      },
      "source": [
        "---"
      ]
    }
  ],
  "metadata": {
    "kernelspec": {
      "display_name": "Python 3 (ipykernel)",
      "language": "python",
      "name": "python3"
    },
    "language_info": {
      "codemirror_mode": {
        "name": "ipython",
        "version": 3
      },
      "file_extension": ".py",
      "mimetype": "text/x-python",
      "name": "python",
      "nbconvert_exporter": "python",
      "pygments_lexer": "ipython3",
      "version": "3.10.0"
    },
    "colab": {
      "provenance": []
    }
  },
  "nbformat": 4,
  "nbformat_minor": 5
}